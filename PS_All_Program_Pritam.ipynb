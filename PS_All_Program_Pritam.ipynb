{
  "cells": [
    {
      "cell_type": "code",
      "execution_count": null,
      "metadata": {
        "id": "doWlE_7VOCFr"
      },
      "outputs": [],
      "source": [
        "'''\n",
        "Name: Pritam Dahiphale\n",
        "Batch: B3\n",
        "Roll no: 222069\n",
        "PRN No:22220044\n",
        "'''"
      ]
    },
    {
      "cell_type": "code",
      "execution_count": null,
      "metadata": {
        "id": "lpLgZhJFaeje"
      },
      "outputs": [],
      "source": [
        "\n",
        "\n",
        "'''____________________________________________________________<Assignment 1>________________________________________________________________'''\n",
        "\n",
        "\n"
      ]
    },
    {
      "cell_type": "code",
      "execution_count": null,
      "metadata": {
        "id": "5yRmKURIZN7o"
      },
      "outputs": [],
      "source": [
        "'''Q1-Q3'''\n",
        "\n",
        "def probability(a,b):\n",
        "    return (a/b)\n",
        "\n",
        "def percentage(a,b):\n",
        "    return ((a/b)*100)\n",
        "\n",
        "a=int(input(\"Enter the sample point: \"))\n",
        "b=int(input(\"Enter the sample space: \"))\n",
        "print(\"the probability is \",round(probability(a,b),2),)\n",
        "print(\"the percentage of probability is \",round(percentage(a,b),2))"
      ]
    },
    {
      "cell_type": "code",
      "execution_count": null,
      "metadata": {
        "id": "cnf4rUDPZ0jp",
        "colab": {
          "base_uri": "https://localhost:8080/"
        },
        "outputId": "25709d42-1186-4855-b809-ac85ddb180ce"
      },
      "outputs": [
        {
          "output_type": "stream",
          "name": "stdout",
          "text": [
            "case 1\n",
            "White ball is drawn from 1st bag:\n",
            "Enter the no. of white balls in 1st bag:5\n",
            "Total no. of balls in 1st bag: 9\n",
            "No. of black balls in 2nd bag: 8\n",
            "Total no. of balls in 2nd bag: 11\n",
            "Probability in 1st case is:  0.4040404040404041\n",
            "case 2\n",
            "Black ball is drawn from 1st bag:\n",
            "Enter the no. of black balls in 1st bag:3\n",
            "Total no. of balls in 1st bag: 9\n",
            "No. of black balls in 2nd bag: 21\n",
            "Total no. of balls in 2nd bag: 21\n",
            "Probability in 1st case is:  0.3333333333333333\n",
            "Final probability:  0.7373737373737375\n"
          ]
        }
      ],
      "source": [
        "'''Q4. One bag contains 4 white balls and 3 black balls, and a second bag contains 3 white\n",
        "balls and 5 black balls. One ball is drawn from the first bag and placed unseen in the\n",
        "second bag. What is the probability that a ball now drawn from the second bag is black?'''\n",
        "\n",
        "def prob1(a,b):\n",
        "    return (a/b)\n",
        "print(\"case 1\\nWhite ball is drawn from 1st bag:\")\n",
        "a1=int(input(\"Enter the no. of white balls in 1st bag:\"))\n",
        "b1=int(input(\"Total no. of balls in 1st bag: \"))\n",
        "a2=int(input(\"No. of black balls in 2nd bag: \"))\n",
        "b2=int(input(\"Total no. of balls in 2nd bag: \"))\n",
        "case1=prob1(a1,b1)*prob1(a2,b2)\n",
        "print(\"Probability in 1st case is: \",case1)\n",
        "\n",
        "print(\"case 2\\nBlack ball is drawn from 1st bag:\")\n",
        "a3=int(input(\"Enter the no. of black balls in 1st bag:\"))\n",
        "b3=int(input(\"Total no. of balls in 1st bag: \"))\n",
        "a4=int(input(\"No. of black balls in 2nd bag: \"))\n",
        "b4=int(input(\"Total no. of balls in 2nd bag: \"))\n",
        "case2=prob1(a3,b3)*prob1(a4,b4)\n",
        "print(\"Probability in 1st case is: \",case2)\n",
        "\n",
        "print(\"Final probability: \",(case1+case2))"
      ]
    },
    {
      "cell_type": "code",
      "execution_count": null,
      "metadata": {
        "id": "IQOfxoFuZ0yK"
      },
      "outputs": [],
      "source": [
        "'''Q5. In a certain assembly plant, three machines, B1, B2, and B3, make 30%, 45%, and\n",
        "25%, respectively, of the products. It is known from past experience that 2%, 3%, and\n",
        "2% of the products made by each machine, respectively, are defective. Now, suppose that\n",
        "a finished product is randomly selected. What is the probability that it is defective?'''\n",
        "\n",
        "def sp(a,b):\n",
        "    c=(a*b)\n",
        "    return c\n",
        "def prob(c):\n",
        "    probability=(c/100)/100\n",
        "    return probability\n",
        "\n",
        "b1=30\n",
        "b2=45\n",
        "b3=25\n",
        "d1=int(input(\"Percent of defective pieces by machine b1\"))\n",
        "d2=int(input(\"Percent of defective pieces by machine b2\"))\n",
        "d3=int(input(\"Percent of defective pieces by machine b3\"))\n",
        "\n",
        "t1=(sp(b1,d1))\n",
        "t2=(sp(b2,d2))\n",
        "t3=(sp(b3,d3))\n",
        "print(\"Probability is: \",prob(t1+t2+t3))\n"
      ]
    },
    {
      "cell_type": "code",
      "execution_count": null,
      "metadata": {
        "id": "kwtLGXpEZ09x"
      },
      "outputs": [],
      "source": [
        "'''Q6. Suppose that we have a fuse box containing 20 fuses, of which 5 are defective.\n",
        "If 2 fuses are selected at random and removed from the box in succession without\n",
        "replacing the first, what is the probability that both fuses are defective?'''\n",
        "\n",
        "def prob(a,b):\n",
        "    return b/a\n",
        "\n",
        "a=int(input(\"Enter the total no. of fuses\"))\n",
        "b=int(input(\"Enter the no. of defective pieces\"))\n",
        "\n",
        "c=prob(a,b)\n",
        "print(\"Probability of 1st fuse being defective\",c)\n",
        "c1=prob(a-1,b-1)\n",
        "print(\"Probability of 2nd fuse being defective\",c1)\n",
        "print(\"Final probability is\",c*c1)\n",
        "\n"
      ]
    },
    {
      "cell_type": "code",
      "execution_count": null,
      "metadata": {
        "id": "_Q9HJC0yoF1L"
      },
      "outputs": [],
      "source": [
        "\n",
        "\n",
        "\n",
        "'''______________________________________________________<Assignment 2>______________________________________________________________'''\n",
        "\n",
        "\n"
      ]
    },
    {
      "cell_type": "code",
      "execution_count": null,
      "metadata": {
        "id": "Y5QRT_e4oGB0"
      },
      "outputs": [],
      "source": [
        "'''Hospital records show that of patients suffering from a certain disease, 75% die of it.\n",
        "What is the probability that of 6 randomly selected patients, 4 will recover?'''\n",
        "\n",
        "from scipy.stats import binom\n",
        "\n",
        "n=6\n",
        "p=0.25\n",
        "\n",
        "prob=binom.pmf(k=4,n=6,p=0.25)\n",
        "print(prob)"
      ]
    },
    {
      "cell_type": "code",
      "execution_count": null,
      "metadata": {
        "id": "pmCZ9JY3oGEt"
      },
      "outputs": [],
      "source": [
        "'''A (blindfolded) marksman finds that on the average he hits the target 4 times out of 5.\n",
        "If he fires 4 shots, what is the probability of\n",
        "(a) More than 2 hits?\n",
        "(b) at least 3 misses?'''\n",
        "\n",
        "from scipy.stats import binom\n",
        "\n",
        "def prob(a):\n",
        "  proba=binom.pmf(k=a,n=4,p=0.8)\n",
        "  return proba\n",
        "\n",
        "print(\"More than 2 hits: \"+str(prob(3)+prob(4)))\n",
        "print(\"At least 3 misses: \"+str(prob(0)+prob(1)))"
      ]
    },
    {
      "cell_type": "code",
      "execution_count": null,
      "metadata": {
        "id": "Mmv0VprvoGIU"
      },
      "outputs": [],
      "source": [
        "'''A company makes electric motors. The probability an electric motor is defective\n",
        "is 0.01. What is the probability that a sample of 300 electric motors will contain\n",
        "exactly 5 defective motors?'''\n",
        "\n",
        "from scipy.stats import binom\n",
        "prob=binom.pmf(k=5,n=300,p=0.01)\n",
        "print(\"Probability is: \"+str(prob))\n",
        "\n",
        "from scipy.stats import poisson\n",
        "prob=poisson.pmf(k=5,mu=3)\n",
        "print(\"Probability: \"+str(prob))"
      ]
    },
    {
      "cell_type": "code",
      "execution_count": null,
      "metadata": {
        "id": "SXyBXnAdoGLE"
      },
      "outputs": [],
      "source": [
        "'''A manufacturer of metal pistons finds that on the average, 12% of his pistons are\n",
        "rejected because they are either oversize or undersize. What is the probability that a\n",
        "batch of 10 pistons will contain?\n",
        "(a) no more than 2 rejects?\n",
        "(b) at least 2 rejects?'''\n",
        "\n",
        "from scipy.stats import binom\n",
        "def prob1(a):\n",
        "  prob=binom.pmf(k=a,n=10,p=0.12)\n",
        "  return prob\n",
        "\n",
        "print(\"No more than 2 rejects: \"+str(prob1(0)+prob1(1)+prob1(2)))\n",
        "print(\"At least 2 rejects: \"+str(1-(prob1(0)+prob1(1))))\n"
      ]
    },
    {
      "cell_type": "code",
      "execution_count": null,
      "metadata": {
        "id": "Yb_qepSN-8Kd"
      },
      "outputs": [],
      "source": [
        "'''A manufacturer produces light-bulbs that are packed into boxes of 100. If quality\n",
        "control studies indicate that 0.5% of the light-bulbs produced are defective, what\n",
        "percentage of the boxes will contain: (a) no defective? (b) 2 or more defectives?'''\n",
        "\n",
        "def prob2(a):\n",
        "  prob=poisson.pmf(k=a,mu=0.5)\n",
        "  return prob\n",
        "\n",
        "print(\"No defective: \"+str(round(prob2(0)*100,2))+\"%\")\n",
        "print(\"2 or more defective: \"+str(round((1-(prob2(0)+prob2(1)))*100,2))+\"%\")\n"
      ]
    },
    {
      "cell_type": "code",
      "execution_count": null,
      "metadata": {
        "id": "cTuwJ00l-8ZU"
      },
      "outputs": [],
      "source": [
        "'''Most graduate schools of business require applicants for admission to take the\n",
        "Graduate Management Admission Council’s GMAT examination. Scores on the\n",
        "GMAT are roughly normally distributed with a mean of 527 and a standard deviation\n",
        "of 112. What is the probability of an individual scoring above 500 on the GMAT?'''\n",
        "\n",
        "import scipy.stats as st\n",
        "\n",
        "def z(x):\n",
        "  mu=527\n",
        "  sd=112\n",
        "  z_score=(x-mu)/sd\n",
        "  return z_score\n",
        "\n",
        "z=z(500)\n",
        "print(\"Value of z: \"+str(z))\n",
        "print(\"Probability: \"+str(1-st.norm.cdf(z)))\n"
      ]
    },
    {
      "cell_type": "code",
      "execution_count": null,
      "metadata": {
        "id": "Dr87H4xo-8jW"
      },
      "outputs": [],
      "source": [
        "'''The length of human pregnancies from conception to birth approximates a normal\n",
        "distribution with a mean of 266 days and a standard deviation of 16 days. What\n",
        "proportion of all pregnancies will last between 240 and 270 days (roughly between 8\n",
        "and 9 months)?'''\n",
        "import scipy.stats as st\n",
        "def z(x):\n",
        "  mu=266\n",
        "  sd=16\n",
        "  z_score=(x-mu)/sd\n",
        "  return z_score\n",
        "\n",
        "a=z(240)\n",
        "b=z(270)\n",
        "print(\"z1: \"+str(a)+\"\\nz2: \"+str(b))\n",
        "\n",
        "print(\"P: \"+str(st.norm.cdf(b)-st.norm.cdf(a)))"
      ]
    },
    {
      "cell_type": "code",
      "execution_count": null,
      "metadata": {
        "id": "WXEada8WMYBd"
      },
      "outputs": [],
      "source": [
        "'''The average number of acres burned by forest and range fires in a large New Mexico\n",
        "county is 4,300 acres per year, with a standard deviation of 750 acres. The distribution\n",
        "of the number of acres burned is normal. What is the probability that between 2,500\n",
        "and 4,200 acres will be burned in any given year?'''\n",
        "\n",
        "def z(x):\n",
        "  mu=4300\n",
        "  sd=750\n",
        "  z_score=(x-mu)/sd\n",
        "  return z_score\n",
        "\n",
        "a=z(2500)\n",
        "b=z(4200)\n",
        "print(\"z1: \"+str(a)+\"\\nz2: \"+str(b))\n",
        "print(\"P: \"+str(st.norm.cdf(b)-st.norm.cdf(a)))\n"
      ]
    },
    {
      "cell_type": "code",
      "execution_count": null,
      "metadata": {
        "id": "wQePWrMxMYHh"
      },
      "outputs": [],
      "source": [
        "'''The Edwards’s Theater chain has studied its movie customers to determine how much\n",
        "money they spend on concessions. The study revealed that the spending distribution is\n",
        "approximately normally distributed with a mean of $4.11 and a standard deviation of\n",
        "$1.37. What percentage of customers will spend less than $3.00 on concessions?'''\n",
        "\n",
        "mu=4.11\n",
        "sd=1.37\n",
        "x=3\n",
        "z=(x-mu)/sd\n",
        "print(\"Z: \"+str(z))\n",
        "print(\"P: \"+str(st.norm.cdf(z)))"
      ]
    },
    {
      "cell_type": "code",
      "execution_count": null,
      "metadata": {
        "colab": {
          "base_uri": "https://localhost:8080/"
        },
        "id": "vBsXA53sMYa4",
        "outputId": "6214d576-9733-4577-b162-458bc0963c84"
      },
      "outputs": [
        {
          "output_type": "execute_result",
          "data": {
            "text/plain": [
              "(0.09375, 3.4604164216385254e-15)"
            ]
          },
          "metadata": {},
          "execution_count": 1
        }
      ],
      "source": [
        "'''Let X and Y be two jointly continuous random variables with joint PDF\n",
        "\n",
        "a. Find the constant cc.\n",
        "b. Find P(0≤X≤1/2 ,0≤Y≤1/2)'''\n",
        "\n",
        "import numpy as np\n",
        "from scipy import integrate\n",
        "f = lambda x, y: x+(1.5*y*y)\n",
        "integrate.dblquad(f, 0, 0.5, 0, 0.5)"
      ]
    },
    {
      "cell_type": "code",
      "execution_count": null,
      "metadata": {
        "id": "-3TlUM12Hhba"
      },
      "outputs": [],
      "source": [
        "\n",
        "\n",
        "\n",
        "'''______________________________________________________<Assignment 3>______________________________________________________________'''\n",
        "\n",
        "\n"
      ]
    },
    {
      "cell_type": "code",
      "source": [
        "# Q1\n",
        "import numpy as np\n",
        "m=np.array([[0.7,0.14,.16],[0.05,0.90,0.05],[0.1,0.05,0.85]])\n",
        "s=np.array([0.4,0.3,0.3])\n",
        "ans=s[1]*m[1][2]*m[2][2]*m[2][1]\n",
        "print(ans)"
      ],
      "metadata": {
        "colab": {
          "base_uri": "https://localhost:8080/"
        },
        "id": "dygv589O1Y5_",
        "outputId": "8246ec1d-97f3-4621-b10a-510ae309d640"
      },
      "execution_count": null,
      "outputs": [
        {
          "output_type": "stream",
          "name": "stdout",
          "text": [
            "0.0006375\n"
          ]
        }
      ]
    },
    {
      "cell_type": "code",
      "source": [
        "# Q2\n",
        "\n",
        "m = np.array([[1/2, 1/4, 1/4], [1/3, 0, 2/3], [1/2, 1/2, 0]])\n",
        "s = np.array([1/4, 1/4, 1/2])\n",
        "\n",
        "ans = s[2]*m[2][1]*m[1][0]\n",
        "print(ans)"
      ],
      "metadata": {
        "colab": {
          "base_uri": "https://localhost:8080/"
        },
        "id": "bEkoEvF31eTj",
        "outputId": "adf02ee1-9dad-4536-8891-587549b18999"
      },
      "execution_count": null,
      "outputs": [
        {
          "output_type": "stream",
          "name": "stdout",
          "text": [
            "0.08333333333333333\n"
          ]
        }
      ]
    },
    {
      "cell_type": "code",
      "source": [
        "# Q3\n",
        "\n",
        "matrix = np.array([[1/4, 1/2, 1/4], [1/3, 0, 2/3], [1/2, 0, 1/2]])\n",
        "\n",
        "ans1 = matrix[1][2]\n",
        "print(\"A]\",ans1)\n",
        "\n",
        "ans2 = matrix[0][0]\n",
        "print(\"B]\",ans2)\n",
        "\n",
        "ans3 = 1/3*matrix[0][1]\n",
        "print(\"C]\",ans3)\n",
        "\n",
        "ans4 = 1/3*matrix[0][1]*matrix[1][2]\n",
        "print(\"D]\",ans4)"
      ],
      "metadata": {
        "colab": {
          "base_uri": "https://localhost:8080/"
        },
        "id": "7z2Pj17z1hnk",
        "outputId": "2f90196a-62ce-4a7d-d7eb-6ef1d5c193fe"
      },
      "execution_count": null,
      "outputs": [
        {
          "output_type": "stream",
          "name": "stdout",
          "text": [
            "A] 0.6666666666666666\n",
            "B] 0.25\n",
            "C] 0.16666666666666666\n",
            "D] 0.1111111111111111\n"
          ]
        }
      ]
    },
    {
      "cell_type": "code",
      "source": [
        "# Q6\n",
        "\n",
        "m = np.array([[0.5, 0.25, 0.25], [0.3, 0.3, 0.4], [0.25, 0.5, 0.25]])\n",
        "\n",
        "m2 = np.dot(m, m)\n",
        "m3 = np.dot(m2, m)\n",
        "m4 = np.dot(m3, m)\n",
        "\n",
        "ans1 = m3[0][2]\n",
        "ans2 = m2[1][1]\n",
        "ans3 = m4[2][1]\n",
        "\n",
        "print(\"A]\",ans1)\n",
        "print(\"B]\",ans2)\n",
        "print(\"C]\",ans3)"
      ],
      "metadata": {
        "colab": {
          "base_uri": "https://localhost:8080/"
        },
        "id": "u4xM7Q0u1k-U",
        "outputId": "bde87b43-0f40-437a-8b59-a5846769122b"
      },
      "execution_count": null,
      "outputs": [
        {
          "output_type": "stream",
          "name": "stdout",
          "text": [
            "A] 0.29875\n",
            "B] 0.365\n",
            "C] 0.3425625\n"
          ]
        }
      ]
    },
    {
      "cell_type": "code",
      "source": [
        "\n",
        "\n",
        "\n",
        "'''______________________________________________________<Assignment 4>______________________________________________________________'''\n",
        "\n",
        "\n"
      ],
      "metadata": {
        "id": "KgxdBjPc1vIw"
      },
      "execution_count": null,
      "outputs": []
    },
    {
      "cell_type": "code",
      "source": [
        "# Que 1\n",
        "import numpy as np\n",
        "population_data = [23,34,43,45,56,76,23,34,45,65,67,54,33,34,45,65,67]\n",
        "mu = np.mean(population_data)\n",
        "sigma = np.std(population_data)\n",
        "print(\"Population mean is \", round(mu,2))\n",
        "print(\"Population standard deviation is \", round(sigma,2))\n",
        "print(\"Population Variance is \", round(sigma*sigma,2))"
      ],
      "metadata": {
        "colab": {
          "base_uri": "https://localhost:8080/"
        },
        "id": "MuMvd0NC1xAl",
        "outputId": "1395a597-aac0-43fa-945a-c31a36512874"
      },
      "execution_count": null,
      "outputs": [
        {
          "output_type": "stream",
          "name": "stdout",
          "text": [
            "Population mean is  47.59\n",
            "Population standard deviation is  15.9\n",
            "Population Variance is  252.71\n"
          ]
        }
      ]
    },
    {
      "cell_type": "code",
      "source": [
        "# Que 2\n",
        "sample_data = [10,11,13,15,16,17]\n",
        "xBar = np.mean(sample_data)\n",
        "std = np.std(sample_data)\n",
        "print(\"Sample mean is \", round(xBar,2))\n",
        "print(\"Sample standard deviation is \", round(std,2))\n",
        "print(\"Sample Variance is \", round(std*std,2))"
      ],
      "metadata": {
        "colab": {
          "base_uri": "https://localhost:8080/"
        },
        "id": "cbBw6G4p11qX",
        "outputId": "292e80e4-a038-42ab-b4a3-791ff842fb05"
      },
      "execution_count": null,
      "outputs": [
        {
          "output_type": "stream",
          "name": "stdout",
          "text": [
            "Sample mean is  13.67\n",
            "Sample standard deviation is  2.56\n",
            "Sample Variance is  6.56\n"
          ]
        }
      ]
    },
    {
      "cell_type": "code",
      "source": [
        "# Que 3\n",
        "from scipy.stats import t\n",
        "confidence = 0.95\n",
        "def calculate(m, s, n):\n",
        "  dof = n-1\n",
        "  t_crit = np.abs(t.ppf((1-confidence)/2,dof))\n",
        "  # print(t_crit)\n",
        "  return (f\"{m} +/- {round(s*t_crit/np.sqrt(n),2)}\")\n",
        "  # return (f\"{round(m-s*t_crit/np.sqrt(n),2)} to {round(m+s*t_crit/np.sqrt(n),2)}\")\n",
        "\n",
        "print(f\"An approximate 95% confidence interval for the mean number of hours of internet use per week in age group 5-8 is {calculate(3.29, 4.29, 2150)}\")\n",
        "\n",
        "print(f\"An approximate 95% confidence interval for the mean number of hours of internet use per week in age group 9-11 is {calculate(5.75, 6.17, 2530)}\")\n",
        "\n",
        "print(f\"An approximate 95% confidence interval for the mean number of hours of internet use per week in age group 12-14 is {calculate(9.95, 7.81, 1250)}\")\n"
      ],
      "metadata": {
        "colab": {
          "base_uri": "https://localhost:8080/"
        },
        "id": "0wZvOtRZ160E",
        "outputId": "c489b691-4c13-4207-d835-6d0dae962378"
      },
      "execution_count": null,
      "outputs": [
        {
          "output_type": "stream",
          "name": "stdout",
          "text": [
            "An approximate 95% confidence interval for the mean number of hours of internet use per week in age group 5-8 is 3.29 +/- 0.18\n",
            "An approximate 95% confidence interval for the mean number of hours of internet use per week in age group 9-11 is 5.75 +/- 0.24\n",
            "An approximate 95% confidence interval for the mean number of hours of internet use per week in age group 12-14 is 9.95 +/- 0.43\n"
          ]
        }
      ]
    },
    {
      "cell_type": "code",
      "source": [
        "# Que 4\n",
        "from scipy.stats import chi2\n",
        "def confidence_interval_var(n,var):\n",
        "  dof = n-1\n",
        "  val1 = chi2.ppf((1-confidence)/2,dof)\n",
        "  val2 = chi2.ppf((1+confidence)/2,dof)\n",
        "  return (f\"{dof*var/val2} to {dof*var/val1}\")\n",
        "  # print(val1)\n",
        "  # print(val2)\n",
        "\n",
        "def confidence_interval_std(n,var):\n",
        "  dof = n-1\n",
        "  val1 = chi2.ppf((1-confidence)/2,dof)\n",
        "  val2 = chi2.ppf((1+confidence)/2,dof)\n",
        "  return (f\"{np.sqrt(dof*var/val2)} to {np.sqrt(dof*var/val1)}\")\n",
        "  # print(val1)\n",
        "  # print(val2)\n",
        "# Part a\n",
        "print(f\"The 95% confidence interval for the variance of the holes is {confidence_interval_var(12,0.0013)}\")\n",
        "# Partb\n",
        "print(f\"The 95% confidence interval for the standard deviation of the holes is {confidence_interval_std(12,0.0013)}\")\n"
      ],
      "metadata": {
        "colab": {
          "base_uri": "https://localhost:8080/"
        },
        "id": "GOrh7ME31-g5",
        "outputId": "763b015c-28c1-4453-a4b7-e5321567798f"
      },
      "execution_count": null,
      "outputs": [
        {
          "output_type": "stream",
          "name": "stdout",
          "text": [
            "The 95% confidence interval for the variance of the holes is 0.0006523707966947242 to 0.00374762669199152\n",
            "The 95% confidence interval for the standard deviation of the holes is 0.02554155039723948 to 0.0612178625238706\n"
          ]
        }
      ]
    },
    {
      "cell_type": "code",
      "source": [
        "# Que 6\n",
        "std = 5.86\n",
        "var = std*std\n",
        "print(f\"The 95% confidence interval for the population standard deviation of the number of rooms rented is {confidence_interval_std(27,var)}\")"
      ],
      "metadata": {
        "id": "wdS7ZLk_2DI6",
        "outputId": "d8c8ab01-f8a2-4eaa-e097-4f31729174cf",
        "colab": {
          "base_uri": "https://localhost:8080/"
        }
      },
      "execution_count": null,
      "outputs": [
        {
          "output_type": "stream",
          "name": "stdout",
          "text": [
            "The 95% confidence interval for the population standard deviation of the number of rooms rented is 4.614846206784498 to 8.030729265560858\n"
          ]
        }
      ]
    },
    {
      "cell_type": "markdown",
      "metadata": {
        "id": "38ymYq1sDMwr"
      },
      "source": []
    }
  ],
  "metadata": {
    "colab": {
      "provenance": []
    },
    "kernelspec": {
      "display_name": "Python 3",
      "name": "python3"
    },
    "language_info": {
      "name": "python"
    }
  },
  "nbformat": 4,
  "nbformat_minor": 0
}
